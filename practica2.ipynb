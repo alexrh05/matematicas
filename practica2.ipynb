{
  "nbformat": 4,
  "nbformat_minor": 0,
  "metadata": {
    "colab": {
      "provenance": [],
      "authorship_tag": "ABX9TyNq2qs4J98+zSPodBczNiLt",
      "include_colab_link": true
    },
    "kernelspec": {
      "name": "python3",
      "display_name": "Python 3"
    },
    "language_info": {
      "name": "python"
    }
  },
  "cells": [
    {
      "cell_type": "markdown",
      "metadata": {
        "id": "view-in-github",
        "colab_type": "text"
      },
      "source": [
        "<a href=\"https://colab.research.google.com/github/alexrh05/matematicas/blob/main/practica2.ipynb\" target=\"_parent\"><img src=\"https://colab.research.google.com/assets/colab-badge.svg\" alt=\"Open In Colab\"/></a>"
      ]
    },
    {
      "cell_type": "markdown",
      "source": [
        "# Práctica 2. Grafos"
      ],
      "metadata": {
        "id": "fpBgZnlLk1I4"
      }
    },
    {
      "cell_type": "markdown",
      "source": [
        "## Práctica 2.1\n",
        "**Algoritmo de Dijkstra**\n",
        "\n",
        "1. Mira estos vídeos:\n",
        " * [Algoritmo de DIJKSTRA ruta corta](https://youtu.be/6rl0ghgPfK0)\n",
        " * [Ruta mas corta en una red, algoritmo de Dijkstra](https://youtu.be/rh02c7v3EKY)\n",
        "2. ¿Qué utilidad tiene el algoritmo?\n",
        "3. Explique el algoritmo.\n",
        "4. De un ejemplo de un grafo resuelto con el algoritmo de Dijkstra.\n",
        "* Muestre la imagen del grafo con sus:\n",
        "  - nodos\n",
        "  - aristas (con flecha si son orientadas)\n",
        "  - pesos (distancias o costes)\n",
        "* Muestre nuevamente la imagen del grafo pero en esta ocasión con la solución."
      ],
      "metadata": {
        "id": "wKv-P_k0k3gV"
      }
    },
    {
      "cell_type": "markdown",
      "source": [
        "## Solución 2.1\n",
        "\n",
        "2. El algoritmo de Dijkstra se utiliza para calcular el camino más corto entre un nodo origen (vértice que tú eliges) y el resto de vértices situados en un grafo. Es una de las aplicaciones que tiene la teoría de grafos.\n",
        "\n",
        "3. Para encontrar la ruta más corta desde el nodo origen, debemos formar una etiqueta que tendrá dos valores, el primero es la distancia acumulada y el segundo nos indica el vértice del que procede. Así la etiqueta del vértice origen sería [ 0 , - ] que nos indica que la distancia acumulada es 0 y que no partimos de ningún otro vértice. A continuación haríamos las etiquetas de los vértices que están unidos por una arista al origen. El primer valor sería su distancia al origen y el segundo sería el número del nodo origen. \n",
        "\n",
        "  A partir de ahí, haríamos las etiquetas de todos los vértices que estén unidos por aristas, teniendo en cuenta que el primer valor siempre será la distancia acumulada desde el origen y el segundo nos indicará el vértice anterior del que procedes. En los vértices que tengan más de una etiqueta (diferentes opciones de caminos) descartaremos aquella que tenga una mayor distancia acumulada.\n",
        "\n"
      ],
      "metadata": {
        "id": "Xzo9lnAqlvBP"
      }
    }
  ]
}