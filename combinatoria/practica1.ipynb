{
  "nbformat": 4,
  "nbformat_minor": 0,
  "metadata": {
    "colab": {
      "provenance": [],
      "include_colab_link": true
    },
    "kernelspec": {
      "name": "python3",
      "display_name": "Python 3"
    },
    "language_info": {
      "name": "python"
    }
  },
  "cells": [
    {
      "cell_type": "markdown",
      "metadata": {
        "id": "view-in-github",
        "colab_type": "text"
      },
      "source": [
        "<a href=\"https://colab.research.google.com/github/alexrh05/matematicas/blob/main/combinatoria/practica1.ipynb\" target=\"_parent\"><img src=\"https://colab.research.google.com/assets/colab-badge.svg\" alt=\"Open In Colab\"/></a>"
      ]
    },
    {
      "cell_type": "markdown",
      "source": [
        "## Práctica 1.2\n",
        "Cuatro amigos:\n",
        "* Antonio (A)\n",
        "* Begoña (B)\n",
        "* Cesar (C)\n",
        "* Diana (D)\n",
        "\n",
        "constituyen una asociación y tienen que asignar los siguientes cargos:\n",
        "* Presiente (1)\n",
        "* Secretario (3)\n",
        "* Tesorero (4)\n",
        "\n",
        "Se pide:\n",
        "1. Escribiendo la solución en una celda de Markdown analice el caso indicando si se trata de variaciones, permutaciones o combinaciones, con o sin repetición o el caso que sea, y el motivo para clasificar el caso de esta forma.\n",
        "2. Utilizando fórmulas de $\\LaTeX$ calcule cuántos casos existen.\n",
        "3. Cree un programa en Python para calcule cuántos casos existen.\n",
        "4. Cree un programa en Python para imprimir todas las posibilidades y numérelas. Por ejemplo:\n",
        "    - 1 ABC\n",
        "    - 2 ABD\n",
        "    - 3 ACB\n",
        "    - ... ... ..."
      ],
      "metadata": {
        "id": "f5GyO0WdsPzk"
      }
    },
    {
      "cell_type": "markdown",
      "source": [
        "### Solución 1.2\n",
        "* Estamos ante un caso de **variaciones sin repetición** ya que:\n",
        " - El orden importa, no es lo mismo estar el nº1 que significa ser presidente que el nº 4 que corresponde al tesorero.\n",
        " - En este caso no intervienen todos. Son 4 amigos para 3 cargos, por lo que uno de los amigos no obtendrá un cargo.\n",
        " - No se repiten elementos. Una persona no puede tener dos cargos simultaneamente.\n",
        "* Los casos que se obtienen con las variaciones sin repetición son $V_{n,k}=\\frac {n!}{(n-k)!}$ que para este ejemplo son:\n",
        "\n",
        "$$V_{4,3}= \\frac {4!}{(4-3)!} = 24$$\n",
        "\n",
        "\n"
      ],
      "metadata": {
        "id": "wOwScPN-thNu"
      }
    },
    {
      "cell_type": "code",
      "source": [
        "import math\n",
        "v = math.factorial(4)\n",
        "print(\"Los casos son: \", v)\n",
        "print(\"Comprobación:  \", 4*3*2*1)"
      ],
      "metadata": {
        "colab": {
          "base_uri": "https://localhost:8080/"
        },
        "id": "-EgoXENh16am",
        "outputId": "8d9122b3-a31d-4ba5-c26d-68dbdc0b164c"
      },
      "execution_count": null,
      "outputs": [
        {
          "output_type": "stream",
          "name": "stdout",
          "text": [
            "Los casos son:  24\n",
            "Comprobación:   24\n"
          ]
        }
      ]
    },
    {
      "cell_type": "code",
      "source": [
        "lista = ['A', 'B', 'C', 'D']\n",
        "contador = 1\n",
        "\n",
        "for j in lista:\n",
        "    for k in lista:\n",
        "        for l in lista:\n",
        "            if j != k and j != l and k != l:\n",
        "                print(f\"{contador:2d} →  {j+k+l}\")\n",
        "                contador += 1"
      ],
      "metadata": {
        "colab": {
          "base_uri": "https://localhost:8080/"
        },
        "id": "RMfP1qwW3PC1",
        "outputId": "df3b0411-bb6d-4fcd-a631-5ccaecbaa089"
      },
      "execution_count": null,
      "outputs": [
        {
          "output_type": "stream",
          "name": "stdout",
          "text": [
            " 1 →  ABC\n",
            " 2 →  ABD\n",
            " 3 →  ACB\n",
            " 4 →  ACD\n",
            " 5 →  ADB\n",
            " 6 →  ADC\n",
            " 7 →  BAC\n",
            " 8 →  BAD\n",
            " 9 →  BCA\n",
            "10 →  BCD\n",
            "11 →  BDA\n",
            "12 →  BDC\n",
            "13 →  CAB\n",
            "14 →  CAD\n",
            "15 →  CBA\n",
            "16 →  CBD\n",
            "17 →  CDA\n",
            "18 →  CDB\n",
            "19 →  DAB\n",
            "20 →  DAC\n",
            "21 →  DBA\n",
            "22 →  DBC\n",
            "23 →  DCA\n",
            "24 →  DCB\n"
          ]
        }
      ]
    },
    {
      "cell_type": "markdown",
      "source": [
        "## Práctica 1.3\n",
        "Invente un caso de **variaciones sin repetición**.\n",
        "Se pide contestar a los mismos puntos que el caso anterior."
      ],
      "metadata": {
        "id": "gbeOizrF6miv"
      }
    },
    {
      "cell_type": "markdown",
      "source": [
        "Ocho amigos:\n",
        "* Gabriela (A)\n",
        "* Valentina (B)\n",
        "* Lesther (C)\n",
        "* Ángel (D)\n",
        "* Javier (E)\n",
        "* Alejandro (F)\n",
        "* Álvaro (G)\n",
        "* Juan Diego (H)\n",
        "\n",
        "Dos equipos:\n",
        "* Real Madrid\n",
        "* Fútbol Club Barcelona\n",
        "\n",
        "Se eligen dos capitanes para representar a los equipos.\n",
        "\n",
        "Se pide:\n",
        "1. Escribiendo la solución en una celda de Markdown analice el caso indicando si se trata de variaciones, permutaciones o combinaciones, con o sin repetición o el caso que sea, y el motivo para clasificar el caso de esta forma.\n",
        "2. Utilizando fórmulas de $\\LaTeX$ calcule cuántos casos existen.\n",
        "3. Cree un programa en Python para calcule cuántos casos existen.\n",
        "4. Cree un programa en Python para imprimir todas las posibilidades y numérelas. Por ejemplo:\n",
        "    - 1 AB\n",
        "    - 2 AC\n",
        "    - 3 BD\n",
        "    - ... ... ..."
      ],
      "metadata": {
        "id": "XagpTZjv55ki"
      }
    },
    {
      "cell_type": "markdown",
      "source": [
        "### Solución 1.3\n",
        "* Estamos ante un caso de **variaciones sin repetición** ya que:\n",
        " - El orden importa, no es lo mismo ser capitán de un equipo o del otro.\n",
        " - En este caso no intervienen todos. Son 8 amigos para 2 capitanes, por lo que 6 personas no serán elegidas.\n",
        " - No se repiten elementos. Una persona no puede capitanear ambos equipos simultaneamente.\n",
        "* Los casos que se obtienen con las variaciones sin repetición son $V_{n,k}=\\frac {n!}{(n-k)!}$ que para este ejemplo son:\n",
        "\n",
        "$$V_{8,2}= \\frac {8!}{(8-2)!} = 56$$\n"
      ],
      "metadata": {
        "id": "8eron0PkxUxc"
      }
    },
    {
      "cell_type": "code",
      "source": [
        "import math\n",
        "v = math.factorial(8)/math.factorial(6)\n",
        "print(\"Los casos son: \", v)\n",
        "print(\"Comprobación:  \", 8*7)"
      ],
      "metadata": {
        "id": "fc44J2qa_aGH",
        "outputId": "1b16c6c8-a0c2-4be3-f9ca-7416352a56cc",
        "colab": {
          "base_uri": "https://localhost:8080/"
        }
      },
      "execution_count": 1,
      "outputs": [
        {
          "output_type": "stream",
          "name": "stdout",
          "text": [
            "Los casos son:  56.0\n",
            "Comprobación:   56\n"
          ]
        }
      ]
    },
    {
      "cell_type": "code",
      "source": [
        "lista = ['A', 'B', 'C', 'D', 'E', 'F', 'G', 'H']\n",
        "contador = 1\n",
        "\n",
        "for j in lista:\n",
        "    for k in lista:\n",
        "        if j != k:\n",
        "            print(f\"{contador:2d} →  {j+k}\")\n",
        "            contador += 1"
      ],
      "metadata": {
        "id": "XER0Kg9ZAPR2",
        "outputId": "d974315e-769c-4dcd-9cbb-4e94ecd3e853",
        "colab": {
          "base_uri": "https://localhost:8080/"
        }
      },
      "execution_count": 6,
      "outputs": [
        {
          "output_type": "stream",
          "name": "stdout",
          "text": [
            " 1 →  AB\n",
            " 2 →  AC\n",
            " 3 →  AD\n",
            " 4 →  AE\n",
            " 5 →  AF\n",
            " 6 →  AG\n",
            " 7 →  AH\n",
            " 8 →  BA\n",
            " 9 →  BC\n",
            "10 →  BD\n",
            "11 →  BE\n",
            "12 →  BF\n",
            "13 →  BG\n",
            "14 →  BH\n",
            "15 →  CA\n",
            "16 →  CB\n",
            "17 →  CD\n",
            "18 →  CE\n",
            "19 →  CF\n",
            "20 →  CG\n",
            "21 →  CH\n",
            "22 →  DA\n",
            "23 →  DB\n",
            "24 →  DC\n",
            "25 →  DE\n",
            "26 →  DF\n",
            "27 →  DG\n",
            "28 →  DH\n",
            "29 →  EA\n",
            "30 →  EB\n",
            "31 →  EC\n",
            "32 →  ED\n",
            "33 →  EF\n",
            "34 →  EG\n",
            "35 →  EH\n",
            "36 →  FA\n",
            "37 →  FB\n",
            "38 →  FC\n",
            "39 →  FD\n",
            "40 →  FE\n",
            "41 →  FG\n",
            "42 →  FH\n",
            "43 →  GA\n",
            "44 →  GB\n",
            "45 →  GC\n",
            "46 →  GD\n",
            "47 →  GE\n",
            "48 →  GF\n",
            "49 →  GH\n",
            "50 →  HA\n",
            "51 →  HB\n",
            "52 →  HC\n",
            "53 →  HD\n",
            "54 →  HE\n",
            "55 →  HF\n",
            "56 →  HG\n"
          ]
        }
      ]
    },
    {
      "cell_type": "markdown",
      "source": [
        "## Práctica 1.4\n",
        "Invente un caso de **variaciones con repetición**.\n",
        "Se pide contestar a los mismos puntos que el caso anterior."
      ],
      "metadata": {
        "id": "GWS8upCbJMr0"
      }
    },
    {
      "cell_type": "markdown",
      "source": [
        "¿Cuántos números de cuatro cifras se pueden formar con los dígitos: 1, 2, 3, 4, 5, 6?\n",
        "\n",
        "Se pide:\n",
        "1. Escribiendo la solución en una celda de Markdown analice el caso indicando si se trata de variaciones, permutaciones o combinaciones, con o sin repetición o el caso que sea, y el motivo para clasificar el caso de esta forma.\n",
        "2. Utilizando fórmulas de $\\LaTeX$ calcule cuántos casos existen.\n",
        "3. Cree un programa en Python para calcule cuántos casos existen.\n",
        "4. Cree un programa en Python para imprimir todas las posibilidades y numérelas. Por ejemplo:\n",
        "    - 1 **1111**\n",
        "    - 2 **1112**\n",
        "    - 3 **1113**\n",
        "    - ... ... ..."
      ],
      "metadata": {
        "id": "ovsjgfwaKae0"
      }
    },
    {
      "cell_type": "markdown",
      "source": [
        "### Solución 1.4\n",
        "* Estamos ante un caso de **variaciones con repetición** ya que:\n",
        " - El orden importa, no es lo mismo el número 1112 que el 2111.\n",
        " - En este caso no intervienen todos. Son 8 amigos para 2 capitanes, por lo que 6 personas no serán elegidas.\n",
        " - Se repiten elementos. El 1212 es un caso válido.\n",
        "* Los casos que se obtienen con las variaciones con repetición son $V R_{n,k}=\\frac {n!}{(n-k)!}$ que para este ejemplo son:\n",
        "\n",
        "$$V_{8,2}= \\frac {8!}{(8-2)!} = 56$$\n"
      ],
      "metadata": {
        "id": "eColVjA7Ld8D"
      }
    }
  ]
}