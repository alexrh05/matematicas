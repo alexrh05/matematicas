{
  "nbformat": 4,
  "nbformat_minor": 0,
  "metadata": {
    "colab": {
      "provenance": [],
      "authorship_tag": "ABX9TyNSsCm4lOwhco4Vyyuv/uML",
      "include_colab_link": true
    },
    "kernelspec": {
      "name": "python3",
      "display_name": "Python 3"
    },
    "language_info": {
      "name": "python"
    }
  },
  "cells": [
    {
      "cell_type": "markdown",
      "metadata": {
        "id": "view-in-github",
        "colab_type": "text"
      },
      "source": [
        "<a href=\"https://colab.research.google.com/github/alexrh05/matematicas/blob/main/combinatoria/practica1.ipynb\" target=\"_parent\"><img src=\"https://colab.research.google.com/assets/colab-badge.svg\" alt=\"Open In Colab\"/></a>"
      ]
    },
    {
      "cell_type": "markdown",
      "source": [
        "## Práctica 1.2\n",
        "Cuatro amigos:\n",
        "* Antonio (A)\n",
        "* Begoña (B)\n",
        "* Cesar (C)\n",
        "* Diana (D)\n",
        "\n",
        "constituyen una asociación y tienen que asignar los siguientes cargos:\n",
        "* Presiente (1)\n",
        "* Secretario (3)\n",
        "* Tesorero (4)\n",
        "\n",
        "Se pide:\n",
        "1. Escribiendo la solución en una celda de Markdown analice el caso indicando si se trata de variaciones, permutaciones o combinaciones, con o sin repetición o el caso que sea, y el motivo para clasificar el caso de esta forma.\n",
        "2. Utilizando fórmulas de $\\LaTeX$ calcule cuántos casos existen.\n",
        "3. Cree un programa en Python para calcule cuántos casos existen.\n",
        "4. Cree un programa en Python para imprimir todas las posibilidades y numérelas. Por ejemplo:\n",
        "    - 1 ABC\n",
        "    - 2 ABD\n",
        "    - 3 ACB\n",
        "    - ... ... ..."
      ],
      "metadata": {
        "id": "f5GyO0WdsPzk"
      }
    },
    {
      "cell_type": "markdown",
      "source": [
        "### Solución 1.2\n",
        "* Estamos ante un caso de **variaciones sin repetición** ya que:\n",
        " - El orden importa, no es lo mismo estar el nº1 que significa ser presidente que el nº 4 que corresponde al tesorero.\n",
        " - En este caso no intervienen todos. Son 4 amigos para 3 cargos, por lo que uno de los amigos no obtendrá un cargo.\n",
        " - No se repiten elementos. Una persona no puede tener dos cargos simultaneamente.\n",
        "* Los casos que se obtienen con las variaciones sin repetición son $V_{n,k}=\\frac {n!}{(n-k)!}$ que para este ejemplo son:\n",
        "\n",
        "$$V_{4,3}= \\frac {4!}{(4-3)!} = 24$$\n",
        "\n",
        "\n"
      ],
      "metadata": {
        "id": "wOwScPN-thNu"
      }
    },
    {
      "cell_type": "code",
      "source": [
        "import math\n",
        "v = math.factorial(4)\n",
        "print(\"Los casos son: \", v)\n",
        "print(\"Comprobación:  \", 4*3*2*1)"
      ],
      "metadata": {
        "colab": {
          "base_uri": "https://localhost:8080/"
        },
        "id": "-EgoXENh16am",
        "outputId": "8d9122b3-a31d-4ba5-c26d-68dbdc0b164c"
      },
      "execution_count": 2,
      "outputs": [
        {
          "output_type": "stream",
          "name": "stdout",
          "text": [
            "Los casos son:  24\n",
            "Comprobación:   24\n"
          ]
        }
      ]
    },
    {
      "cell_type": "code",
      "source": [
        "lista = ['A', 'B', 'C', 'D']\n",
        "contador = 1\n",
        "\n",
        "for j in lista:\n",
        "    for k in lista:\n",
        "        for l in lista:\n",
        "            if j != k and j != l and k != l:\n",
        "                print(f\"{contador:2d} →  {j+k+l}\")\n",
        "                contador += 1"
      ],
      "metadata": {
        "colab": {
          "base_uri": "https://localhost:8080/"
        },
        "id": "RMfP1qwW3PC1",
        "outputId": "df3b0411-bb6d-4fcd-a631-5ccaecbaa089"
      },
      "execution_count": 7,
      "outputs": [
        {
          "output_type": "stream",
          "name": "stdout",
          "text": [
            " 1 →  ABC\n",
            " 2 →  ABD\n",
            " 3 →  ACB\n",
            " 4 →  ACD\n",
            " 5 →  ADB\n",
            " 6 →  ADC\n",
            " 7 →  BAC\n",
            " 8 →  BAD\n",
            " 9 →  BCA\n",
            "10 →  BCD\n",
            "11 →  BDA\n",
            "12 →  BDC\n",
            "13 →  CAB\n",
            "14 →  CAD\n",
            "15 →  CBA\n",
            "16 →  CBD\n",
            "17 →  CDA\n",
            "18 →  CDB\n",
            "19 →  DAB\n",
            "20 →  DAC\n",
            "21 →  DBA\n",
            "22 →  DBC\n",
            "23 →  DCA\n",
            "24 →  DCB\n"
          ]
        }
      ]
    },
    {
      "cell_type": "markdown",
      "source": [
        "## Práctica 1.3\n",
        "Invente un caso de **variaciones sin repetición**.\n",
        "Se pide contestar a los mismos puntos que el caso anterior."
      ],
      "metadata": {
        "id": "gbeOizrF6miv"
      }
    }
  ]
}